{
 "cells": [
  {
   "cell_type": "code",
   "execution_count": null,
   "id": "a84447ba-e2d3-40b2-aeab-51ecdb43665a",
   "metadata": {},
   "outputs": [],
   "source": [
    "from datetime import date, timedelta\n",
    "import requests\n",
    "import pandas as pd\n",
    "import geopandas as gpd\n",
    "from shapely.geometry import shape\n",
    "import os\n",
    "import time\n",
    "from urllib3.exceptions import IncompleteRead"
   ]
  },
  {
   "cell_type": "code",
   "execution_count": null,
   "id": "0372f7bd-527e-4f71-88b3-f80524d2490d",
   "metadata": {},
   "outputs": [],
   "source": [
    "copernicus_user = \"userid\"\n",
    "copernicus_password = \"password\"\n",
    "ft = \"POLYGON((minLon minLat, maxLon minLat, maxLon maxLat, minLon maxLat, minLon minLat))\"\n",
    "data_collection = \"SENTINEL-5P\""
   ]
  },
  {
   "cell_type": "code",
   "execution_count": null,
   "id": "7fe0379e-3e81-47e3-b67b-fd93fb0d9038",
   "metadata": {},
   "outputs": [],
   "source": [
    "start_date = \"YYYY-MM-DD\"\n",
    "end_date = \"YYYY-MM-DD\""
   ]
  },
  {
   "cell_type": "code",
   "execution_count": null,
   "id": "2679abc1-0a6d-4624-892c-5e430bd80e4b",
   "metadata": {},
   "outputs": [],
   "source": []
  }
 ],
 "metadata": {
  "kernelspec": {
   "display_name": "Python 3 (ipykernel)",
   "language": "python",
   "name": "python3"
  },
  "language_info": {
   "codemirror_mode": {
    "name": "ipython",
    "version": 3
   },
   "file_extension": ".py",
   "mimetype": "text/x-python",
   "name": "python",
   "nbconvert_exporter": "python",
   "pygments_lexer": "ipython3",
   "version": "3.12.7"
  }
 },
 "nbformat": 4,
 "nbformat_minor": 5
}
